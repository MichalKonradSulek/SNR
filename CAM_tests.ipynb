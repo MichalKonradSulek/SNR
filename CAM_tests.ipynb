{
 "cells": [
  {
   "cell_type": "code",
   "execution_count": 3,
   "id": "ahead-fluid",
   "metadata": {},
   "outputs": [],
   "source": [
    "import imagegenerator\n",
    "import analyzer\n",
    "\n",
    "import tensorflow as tf\n",
    "from tensorflow.keras import layers\n",
    "import models\n",
    "from CAM import *\n",
    "from pipeline import *"
   ]
  },
  {
   "cell_type": "code",
   "execution_count": 4,
   "id": "mathematical-interstate",
   "metadata": {},
   "outputs": [],
   "source": [
    "data_path = 'images/subset'\n",
    "results_path = 'results'\n",
    "batch_size = 32\n",
    "labels = ['Afghan hound', 'Maltese dog', 'Scottish deerhound']\n",
    "img_size = (224,224)"
   ]
  },
  {
   "cell_type": "code",
   "execution_count": 5,
   "id": "veterinary-provider",
   "metadata": {
    "scrolled": false
   },
   "outputs": [
    {
     "name": "stdout",
     "output_type": "stream",
     "text": [
      "Model: \"sequential\"\n",
      "_________________________________________________________________\n",
      "Layer (type)                 Output Shape              Param #   \n",
      "=================================================================\n",
      "conv2d (Conv2D)              (None, 220, 220, 16)      1216      \n",
      "_________________________________________________________________\n",
      "max_pooling2d (MaxPooling2D) (None, 55, 55, 16)        0         \n",
      "_________________________________________________________________\n",
      "conv2d_1 (Conv2D)            (None, 53, 53, 32)        4640      \n",
      "_________________________________________________________________\n",
      "dropout (Dropout)            (None, 53, 53, 32)        0         \n",
      "_________________________________________________________________\n",
      "max_pooling2d_1 (MaxPooling2 (None, 13, 13, 32)        0         \n",
      "_________________________________________________________________\n",
      "flatten (Flatten)            (None, 5408)              0         \n",
      "_________________________________________________________________\n",
      "dense (Dense)                (None, 32)                173088    \n",
      "_________________________________________________________________\n",
      "dense_1 (Dense)              (None, 3)                 99        \n",
      "=================================================================\n",
      "Total params: 179,043\n",
      "Trainable params: 179,043\n",
      "Non-trainable params: 0\n",
      "_________________________________________________________________\n",
      "Found 465 images belonging to 3 classes.\n",
      "Found 115 images belonging to 3 classes.\n",
      "Epoch 1/4\n",
      "15/15 [==============================] - 10s 628ms/step - loss: 1.2121 - accuracy: 0.2863 - val_loss: 1.1024 - val_accuracy: 0.3391\n",
      "Epoch 2/4\n",
      "15/15 [==============================] - 9s 602ms/step - loss: 1.1016 - accuracy: 0.3389 - val_loss: 1.0869 - val_accuracy: 0.3565\n",
      "Epoch 3/4\n",
      "15/15 [==============================] - 9s 622ms/step - loss: 1.0766 - accuracy: 0.3766 - val_loss: 1.0682 - val_accuracy: 0.3565\n",
      "Epoch 4/4\n",
      "15/15 [==============================] - 10s 701ms/step - loss: 1.0358 - accuracy: 0.4822 - val_loss: 1.0508 - val_accuracy: 0.4435\n",
      "Found 143 files belonging to 3 classes.\n",
      "model_simple metrics:\n",
      "accuracy: 0.455\n",
      "2-accuracy: 0.825\n",
      "confusion matrics:\n",
      " [[16  5 29]\n",
      " [ 3 11 33]\n",
      " [ 2  6 38]]\n",
      "INFO:tensorflow:Assets written to: results/results_model_simple_04-26_19-44_02553eb/model/assets\n"
     ]
    },
    {
     "data": {
      "image/png": "[encoded data removed]",
      "text/plain": [
       "<Figure size 576x576 with 1 Axes>"
      ]
     },
     "metadata": {
      "needs_background": "light"
     },
     "output_type": "display_data"
    }
   ],
   "source": [
    "model, img_gen = run_simple_model(save_model=True)"
   ]
  },
  {
   "cell_type": "code",
   "execution_count": 33,
   "id": "disabled-newsletter",
   "metadata": {
    "scrolled": true
   },
   "outputs": [
    {
     "name": "stdout",
     "output_type": "stream",
     "text": [
      "Found 143 files belonging to 3 classes.\n",
      "96\n"
     ]
    }
   ],
   "source": [
    "x, y = img_gen.test_array(3)\n",
    "print(len(x))"
   ]
  },
  {
   "cell_type": "code",
   "execution_count": 34,
   "id": "sufficient-calvin",
   "metadata": {
    "scrolled": false
   },
   "outputs": [
    {
     "ename": "IndexError",
     "evalue": "index 142 is out of bounds for axis 0 with size 96",
     "output_type": "error",
     "traceback": [
      "\u001b[0;31m---------------------------------------------------------------------------\u001b[0m",
      "\u001b[0;31mIndexError\u001b[0m                                Traceback (most recent call last)",
      "\u001b[0;32m<ipython-input-34-59532bd6e3dc>\u001b[0m in \u001b[0;36m<module>\u001b[0;34m\u001b[0m\n\u001b[1;32m      1\u001b[0m \u001b[0mIMG_NUMB\u001b[0m \u001b[0;34m=\u001b[0m \u001b[0;36m142\u001b[0m\u001b[0;34m\u001b[0m\u001b[0;34m\u001b[0m\u001b[0m\n\u001b[0;32m----> 2\u001b[0;31m \u001b[0mimg_array\u001b[0m \u001b[0;34m=\u001b[0m \u001b[0mkeras\u001b[0m\u001b[0;34m.\u001b[0m\u001b[0mpreprocessing\u001b[0m\u001b[0;34m.\u001b[0m\u001b[0mimage\u001b[0m\u001b[0;34m.\u001b[0m\u001b[0mimg_to_array\u001b[0m\u001b[0;34m(\u001b[0m\u001b[0mx\u001b[0m\u001b[0;34m[\u001b[0m\u001b[0mIMG_NUMB\u001b[0m\u001b[0;34m]\u001b[0m\u001b[0;34m)\u001b[0m\u001b[0;34m\u001b[0m\u001b[0;34m\u001b[0m\u001b[0m\n\u001b[0m\u001b[1;32m      3\u001b[0m \u001b[0mimg_array\u001b[0m \u001b[0;34m=\u001b[0m \u001b[0mnp\u001b[0m\u001b[0;34m.\u001b[0m\u001b[0mexpand_dims\u001b[0m\u001b[0;34m(\u001b[0m\u001b[0mimg_array\u001b[0m\u001b[0;34m,\u001b[0m \u001b[0maxis\u001b[0m\u001b[0;34m=\u001b[0m\u001b[0;36m0\u001b[0m\u001b[0;34m)\u001b[0m\u001b[0;34m\u001b[0m\u001b[0;34m\u001b[0m\u001b[0m\n\u001b[1;32m      4\u001b[0m \u001b[0mpreds\u001b[0m \u001b[0;34m=\u001b[0m \u001b[0mmodel\u001b[0m\u001b[0;34m.\u001b[0m\u001b[0mmodel\u001b[0m\u001b[0;34m.\u001b[0m\u001b[0mpredict\u001b[0m\u001b[0;34m(\u001b[0m\u001b[0mimg_array\u001b[0m\u001b[0;34m)\u001b[0m\u001b[0;34m\u001b[0m\u001b[0;34m\u001b[0m\u001b[0m\n\u001b[1;32m      5\u001b[0m \u001b[0mheatmap\u001b[0m \u001b[0;34m=\u001b[0m \u001b[0mmake_gradcam_heatmap\u001b[0m\u001b[0;34m(\u001b[0m\u001b[0mimg_array\u001b[0m\u001b[0;34m,\u001b[0m \u001b[0mmodel\u001b[0m\u001b[0;34m.\u001b[0m\u001b[0mmodel\u001b[0m\u001b[0;34m,\u001b[0m \u001b[0;34m'conv2d_3'\u001b[0m\u001b[0;34m)\u001b[0m\u001b[0;34m\u001b[0m\u001b[0;34m\u001b[0m\u001b[0m\n",
      "\u001b[0;31mIndexError\u001b[0m: index 142 is out of bounds for axis 0 with size 96"
     ]
    }
   ],
   "source": [
    "IMG_NUMB = 142\n",
    "img_array = keras.preprocessing.image.img_to_array(x[IMG_NUMB])\n",
    "img_array = np.expand_dims(img_array, axis=0)\n",
    "preds = model.model.predict(img_array)\n",
    "heatmap = make_gradcam_heatmap(img_array, model.model, 'conv2d_3')\n",
    "plt.matshow(heatmap)\n",
    "plt.show()\n",
    "save_and_display_gradcam(x[IMG_NUMB],heatmap, alpha = 0.001)"
   ]
  },
  {
   "cell_type": "code",
   "execution_count": 11,
   "id": "official-gregory",
   "metadata": {
    "scrolled": true
   },
   "outputs": [
    {
     "name": "stdout",
     "output_type": "stream",
     "text": [
      "Found 143 files belonging to 3 classes.\n"
     ]
    },
    {
     "data": {
      "image/png": "[encoded data removed]",
      "text/plain": [
       "<Figure size 288x288 with 1 Axes>"
      ]
     },
     "metadata": {
      "needs_background": "light"
     },
     "output_type": "display_data"
    },
    {
     "data": {
      "image/jpeg": "[encoded data removed]",
      "text/plain": [
       "<IPython.core.display.Image object>"
      ]
     },
     "metadata": {},
     "output_type": "display_data"
    }
   ],
   "source": [
    "make_heatmap_from_test_img(model, img_gen, 'conv2d_1', 112)"
   ]
  },
  {
   "cell_type": "code",
   "execution_count": null,
   "id": "assumed-equilibrium",
   "metadata": {},
   "outputs": [],
   "source": []
  }
 ],
 "metadata": {
  "kernelspec": {
   "display_name": "Python 3",
   "language": "python",
   "name": "python3"
  },
  "language_info": {
   "codemirror_mode": {
    "name": "ipython",
    "version": 3
   },
   "file_extension": ".py",
   "mimetype": "text/x-python",
   "name": "python",
   "nbconvert_exporter": "python",
   "pygments_lexer": "ipython3",
   "version": "3.8.6"
  }
 },
 "nbformat": 4,
 "nbformat_minor": 5
}
