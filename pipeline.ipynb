{
 "metadata": {
  "language_info": {
   "codemirror_mode": {
    "name": "ipython",
    "version": 3
   },
   "file_extension": ".py",
   "mimetype": "text/x-python",
   "name": "python",
   "nbconvert_exporter": "python",
   "pygments_lexer": "ipython3",
   "version": "3.8.5"
  },
  "orig_nbformat": 2,
  "kernelspec": {
   "name": "python3",
   "display_name": "Python 3.8.5 64-bit ('nndogs': conda)",
   "metadata": {
    "interpreter": {
     "hash": "99bd099b53c328946a5399310b3f4f78e0ff879986589a0b80c8228073e0f34d"
    }
   }
  }
 },
 "nbformat": 4,
 "nbformat_minor": 2,
 "cells": [
  {
   "cell_type": "code",
   "execution_count": 1,
   "metadata": {},
   "outputs": [],
   "source": [
    "import imagegenerator\n",
    "\n",
    "import tensorflow as tf\n",
    "from tensorflow.keras import layers"
   ]
  },
  {
   "cell_type": "code",
   "execution_count": 2,
   "metadata": {},
   "outputs": [],
   "source": [
    "data_path = 'images/subset'\n",
    "batch_size = 32"
   ]
  },
  {
   "cell_type": "code",
   "execution_count": 3,
   "metadata": {},
   "outputs": [],
   "source": [
    "def create_simple_model(image_shape, labels_num):\n",
    "    model = tf.keras.Sequential([         \n",
    "        layers.Conv2D(16, (5, 5), activation='relu', input_shape=(*image_shape, 3)),\n",
    "        layers.MaxPooling2D((4, 4)),\n",
    "        layers.Conv2D(16, (3, 3), activation='relu'),\n",
    "        layers.MaxPooling2D((4, 4)),\n",
    "        layers.Flatten(),\n",
    "        layers.Dense(32, activation='relu'),\n",
    "        layers.Dense(labels_num, activation='softmax')        \n",
    "    ])\n",
    "\n",
    "    model.summary()\n",
    "\n",
    "    model.compile(optimizer='adam',\n",
    "              loss='categorical_crossentropy',\n",
    "              metrics=['accuracy'])\n",
    "\n",
    "    return model\n",
    "\n",
    "def train_simple_model_with_generator(image_generator, labels_num):\n",
    "\n",
    "    model = create_simple_model(image_generator.image_size, labels_num)\n",
    "    \n",
    "    model.fit(\n",
    "        image_generator.train_generator(),        \n",
    "        epochs = 8,\n",
    "        validation_data = image_generator.validation_generator(),        \n",
    "    )\n",
    "\n",
    "    return model\n",
    "\n",
    "\n",
    "def train_simple_model_with_arrays(image_generator, labels_num):\n",
    "\n",
    "    model = create_simple_model(image_generator.image_size, labels_num)\n",
    "\n",
    "    x_train, y_train = image_generator.train_array(batches_num = 100)\n",
    "    x_test, y_test = image_generator.validation_array(batches_num = 10)\n",
    "    \n",
    "    model.fit(\n",
    "        x_train,\n",
    "        y_train,        \n",
    "        epochs = 3,\n",
    "        validation_data = (x_test, y_test)\n",
    "    )\n",
    "\n",
    "    return model"
   ]
  },
  {
   "cell_type": "code",
   "execution_count": 4,
   "metadata": {},
   "outputs": [],
   "source": [
    "image_generator = imagegenerator.ImageGenerator(data_path, validation_split=0.2, seed=123, batch_size=batch_size, image_size=(64,64))"
   ]
  },
  {
   "cell_type": "code",
   "execution_count": 5,
   "metadata": {},
   "outputs": [
    {
     "output_type": "stream",
     "name": "stdout",
     "text": [
      "Model: \"sequential\"\n",
      "_________________________________________________________________\n",
      "Layer (type)                 Output Shape              Param #   \n",
      "=================================================================\n",
      "conv2d (Conv2D)              (None, 60, 60, 16)        1216      \n",
      "_________________________________________________________________\n",
      "max_pooling2d (MaxPooling2D) (None, 15, 15, 16)        0         \n",
      "_________________________________________________________________\n",
      "conv2d_1 (Conv2D)            (None, 13, 13, 16)        2320      \n",
      "_________________________________________________________________\n",
      "max_pooling2d_1 (MaxPooling2 (None, 3, 3, 16)          0         \n",
      "_________________________________________________________________\n",
      "flatten (Flatten)            (None, 144)               0         \n",
      "_________________________________________________________________\n",
      "dense (Dense)                (None, 32)                4640      \n",
      "_________________________________________________________________\n",
      "dense_1 (Dense)              (None, 3)                 99        \n",
      "=================================================================\n",
      "Total params: 8,275\n",
      "Trainable params: 8,275\n",
      "Non-trainable params: 0\n",
      "_________________________________________________________________\n",
      "Found 465 images belonging to 3 classes.\n",
      "Found 115 images belonging to 3 classes.\n",
      "Epoch 1/8\n",
      "15/15 [==============================] - 11s 578ms/step - loss: 1.1186 - accuracy: 0.3539 - val_loss: 1.0944 - val_accuracy: 0.3478\n",
      "Epoch 2/8\n",
      "15/15 [==============================] - 7s 487ms/step - loss: 1.0935 - accuracy: 0.3662 - val_loss: 1.0814 - val_accuracy: 0.4087\n",
      "Epoch 3/8\n",
      "15/15 [==============================] - 7s 494ms/step - loss: 1.0835 - accuracy: 0.4089 - val_loss: 1.0671 - val_accuracy: 0.5391\n",
      "Epoch 4/8\n",
      "15/15 [==============================] - 7s 475ms/step - loss: 1.0672 - accuracy: 0.4619 - val_loss: 1.0230 - val_accuracy: 0.6087\n",
      "Epoch 5/8\n",
      "15/15 [==============================] - 7s 504ms/step - loss: 1.0246 - accuracy: 0.5297 - val_loss: 0.9679 - val_accuracy: 0.5826\n",
      "Epoch 6/8\n",
      "15/15 [==============================] - 7s 469ms/step - loss: 0.9637 - accuracy: 0.5655 - val_loss: 0.9256 - val_accuracy: 0.5304\n",
      "Epoch 7/8\n",
      "15/15 [==============================] - 7s 466ms/step - loss: 0.9462 - accuracy: 0.5228 - val_loss: 0.9231 - val_accuracy: 0.5565\n",
      "Epoch 8/8\n",
      "15/15 [==============================] - 7s 474ms/step - loss: 0.9038 - accuracy: 0.5563 - val_loss: 0.9243 - val_accuracy: 0.5217\n"
     ]
    },
    {
     "output_type": "execute_result",
     "data": {
      "text/plain": [
       "<tensorflow.python.keras.engine.sequential.Sequential at 0x7f250da01d30>"
      ]
     },
     "metadata": {},
     "execution_count": 5
    }
   ],
   "source": [
    "train_simple_model_with_generator(image_generator, 3)"
   ]
  },
  {
   "cell_type": "code",
   "execution_count": 6,
   "metadata": {},
   "outputs": [
    {
     "output_type": "stream",
     "name": "stdout",
     "text": [
      "Model: \"sequential_1\"\n",
      "_________________________________________________________________\n",
      "Layer (type)                 Output Shape              Param #   \n",
      "=================================================================\n",
      "conv2d_2 (Conv2D)            (None, 60, 60, 16)        1216      \n",
      "_________________________________________________________________\n",
      "max_pooling2d_2 (MaxPooling2 (None, 15, 15, 16)        0         \n",
      "_________________________________________________________________\n",
      "conv2d_3 (Conv2D)            (None, 13, 13, 16)        2320      \n",
      "_________________________________________________________________\n",
      "max_pooling2d_3 (MaxPooling2 (None, 3, 3, 16)          0         \n",
      "_________________________________________________________________\n",
      "flatten_1 (Flatten)          (None, 144)               0         \n",
      "_________________________________________________________________\n",
      "dense_2 (Dense)              (None, 32)                4640      \n",
      "_________________________________________________________________\n",
      "dense_3 (Dense)              (None, 3)                 99        \n",
      "=================================================================\n",
      "Total params: 8,275\n",
      "Trainable params: 8,275\n",
      "Non-trainable params: 0\n",
      "_________________________________________________________________\n",
      "Found 465 images belonging to 3 classes.\n",
      "Found 115 images belonging to 3 classes.\n",
      "Epoch 1/3\n",
      "98/98 [==============================] - 11s 93ms/step - loss: 1.0635 - accuracy: 0.4221 - val_loss: 0.9119 - val_accuracy: 0.5340\n",
      "Epoch 2/3\n",
      "98/98 [==============================] - 10s 98ms/step - loss: 0.8853 - accuracy: 0.5715 - val_loss: 0.8578 - val_accuracy: 0.5442\n",
      "Epoch 3/3\n",
      "98/98 [==============================] - 9s 91ms/step - loss: 0.7502 - accuracy: 0.6521 - val_loss: 0.8291 - val_accuracy: 0.6122\n"
     ]
    },
    {
     "output_type": "execute_result",
     "data": {
      "text/plain": [
       "<tensorflow.python.keras.engine.sequential.Sequential at 0x7f24ced9b070>"
      ]
     },
     "metadata": {},
     "execution_count": 6
    }
   ],
   "source": [
    "train_simple_model_with_arrays(image_generator, 3)"
   ]
  }
 ]
}